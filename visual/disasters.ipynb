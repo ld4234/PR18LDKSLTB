{
 "cells": [
  {
   "cell_type": "code",
   "execution_count": 1,
   "metadata": {
    "collapsed": true
   },
   "outputs": [],
   "source": [
    "%load_ext autoreload\n",
    "%autoreload 2\n"
   ]
  },
  {
   "cell_type": "code",
   "execution_count": 4,
   "metadata": {},
   "outputs": [],
   "source": [
    "from matplotlib import pyplot as plt\n",
    "import numpy as np\n",
    "import pandas as pd\n",
    "\n",
    "from api import disaster_api\n",
    "from api import co2_api\n",
    "\n",
    "plt.style.use('visual/PR.mplstyle')"
   ]
  },
  {
   "cell_type": "code",
   "execution_count": 14,
   "metadata": {},
   "outputs": [],
   "source": [
    "data = disaster_api.get_data()\n",
    "data = data[data.year < 2017]\n",
    "co2_data = co2_api.get_data()"
   ]
  },
  {
   "cell_type": "code",
   "execution_count": 15,
   "metadata": {},
   "outputs": [],
   "source": [
    "counts = data.groupby('year').occurrence.sum()\n",
    "x = counts.index\n",
    "y = counts.values"
   ]
  },
  {
   "cell_type": "code",
   "execution_count": 16,
   "metadata": {},
   "outputs": [],
   "source": [
    "plt.figure()\n",
    "plt.plot(x, y)\n",
    "plt.show()"
   ]
  },
  {
   "cell_type": "code",
   "execution_count": 17,
   "metadata": {},
   "outputs": [],
   "source": [
    "since1900 = co2_data[co2_data.kyear > (-120 / 1000)]\n",
    "x_co2 = since1900.kyear\n",
    "y_co2 = since1900.co2\n",
    "\n",
    "x_co2 *= 1000\n",
    "x_co2 += 2001  # last data point"
   ]
  },
  {
   "cell_type": "code",
   "execution_count": 20,
   "metadata": {},
   "outputs": [],
   "source": [
    "fig, ax1 = plt.subplots()\n",
    "t = x\n",
    "s1 = y\n",
    "ax1.plot(t, s1, 'b-')\n",
    "ax1.set_xlabel('year)')\n",
    "# Make the y-axis label, ticks and tick labels match the line color.\n",
    "ax1.set_ylabel('Natural disaster ocurrances', color='b')\n",
    "ax1.tick_params('y', colors='b')\n",
    "\n",
    "ax2 = ax1.twinx()\n",
    "\n",
    "ax2.plot(x_co2, y_co2, 'r-')\n",
    "ax2.set_ylabel('CO2 concentration', color='r')\n",
    "ax2.tick_params('y', colors='r')\n",
    "\n",
    "fig.tight_layout()\n",
    "\n",
    "plt.title(\"Correlation between CO2 and Natural disaster occurrences\")\n",
    "plt.show()"
   ]
  },
  {
   "cell_type": "code",
   "execution_count": 21,
   "metadata": {},
   "outputs": [],
   "source": [
    "disaster_counts = data.groupby(['year', 'disasterType']).occurrence.sum()"
   ]
  },
  {
   "cell_type": "code",
   "execution_count": 22,
   "metadata": {},
   "outputs": [
    {
     "data": {
      "text/plain": [
       "year  disasterType     \n1900  Drought              2\n      Epidemic             1\n      Flood                1\n      Storm                1\n      Volcanic activity    1\n1901  Earthquake           2\n      Epidemic             1\n1902  Earthquake           3\n      Storm                1\n      Volcanic activity    5\nName: occurrence, dtype: int64"
      ]
     },
     "execution_count": 22,
     "metadata": {},
     "output_type": "execute_result"
    }
   ],
   "source": [
    "disaster_counts.head(10)"
   ]
  },
  {
   "cell_type": "code",
   "execution_count": 32,
   "metadata": {},
   "outputs": [],
   "source": [
    "disaster_counts_u = disaster_counts.unstack(level=-1)   \n",
    "disaster_counts_u.head()\n",
    "disaster_counts_u['Extreme temperature'] = disaster_counts_u['Extreme temperature ']\n",
    "del disaster_counts_u['Extreme temperature ']\n",
    "\n",
    "disaster_counts_u = disaster_counts_u.fillna(0)\n",
    "\n",
    "x = disaster_counts_u.index\n",
    "drought = disaster_counts_u.Drought\n",
    "epidemic = disaster_counts_u.Epidemic\n",
    "temperature = disaster_counts_u['Extreme temperature']\n",
    "earthquake = disaster_counts_u.Earthquake\n",
    "flood = disaster_counts_u.Flood\n",
    "storm = disaster_counts_u.Storm\n",
    "wildfire = disaster_counts_u.Wildfire\n",
    "\n",
    "# other types grouped under other types\n",
    "insect = disaster_counts_u['Insect infestation']\n",
    "other_types = disaster_counts_u.Landslide + disaster_counts_u.Fog + disaster_counts_u.Impact + insect\n",
    "\n",
    "# print(disaster_counts_u.columns)\n",
    "\n"
   ]
  },
  {
   "cell_type": "code",
   "execution_count": 35,
   "metadata": {},
   "outputs": [],
   "source": [
    "legend_attrs = ['Drought', 'Epidemic', 'Temperature', 'Flood', 'Storm', 'Wildfire', 'Other types']\n",
    "\n",
    "\n",
    "plt.figure(figsize=(11, 4))\n",
    "bar4 = plt.bar(x, flood, color='blue', align='center', alpha=0.7, width=0.45)\n",
    "bar6 = plt.bar(x, storm, bottom=flood, color='black', align='center', alpha=0.7, width=0.45)\n",
    "bar2 = plt.bar(x, epidemic, bottom=(flood + storm), color='brown', align=\"center\",  alpha=0.7, width=0.45)\n",
    "bar1 = plt.bar(x, drought, bottom=(flood + storm + epidemic), color=\"yellow\", align='center', alpha=0.7, width=0.45)\n",
    "bar7 = plt.bar(x, wildfire, bottom=(flood + storm + drought + epidemic), color='red', align='center', alpha=0.7, width=0.45)\n",
    "bar3 = plt.bar(x, temperature, bottom=(flood + storm + drought + epidemic + wildfire), color='magenta', align='center',  alpha=0.7, width=0.45)\n",
    "bar8 = plt.bar(x, other_types, bottom=(flood + storm + drought + epidemic + wildfire + temperature), color='cyan', align='center', alpha=0.7, width=0.45)\n",
    "\n",
    "plt.legend([bar1, bar2, bar3, bar4, bar6, bar7, bar8], legend_attrs)\n",
    "\n",
    "plt.ylabel(\"Occurrences\")\n",
    "plt.xlabel(\"Year\")\n",
    "\n",
    "plt.show()\n"
   ]
  },
  {
   "cell_type": "code",
   "execution_count": null,
   "metadata": {},
   "outputs": [],
   "source": []
  }
 ],
 "metadata": {
  "kernelspec": {
   "display_name": "Python 2",
   "language": "python",
   "name": "python2"
  },
  "language_info": {
   "codemirror_mode": {
    "name": "ipython",
    "version": 2
   },
   "file_extension": ".py",
   "mimetype": "text/x-python",
   "name": "python",
   "nbconvert_exporter": "python",
   "pygments_lexer": "ipython2",
   "version": "2.7.6"
  }
 },
 "nbformat": 4,
 "nbformat_minor": 0
}
