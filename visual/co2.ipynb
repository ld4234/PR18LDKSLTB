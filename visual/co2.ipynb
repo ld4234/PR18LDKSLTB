{
 "cells": [
  {
   "cell_type": "code",
   "execution_count": 1,
   "metadata": {
    "collapsed": true
   },
   "outputs": [],
   "source": [
    "%load_ext autoreload\n",
    "%autoreload 2\n",
    "\n"
   ]
  },
  {
   "cell_type": "code",
   "execution_count": 45,
   "metadata": {},
   "outputs": [],
   "source": [
    "from api import co2_api\n",
    "import numpy as np\n",
    "from matplotlib import pyplot as plt\n",
    "plt.style.use('visual/PR.mplstyle')\n"
   ]
  },
  {
   "cell_type": "code",
   "execution_count": 60,
   "metadata": {},
   "outputs": [],
   "source": [
    "data = co2_api.get_data()\n",
    "\n",
    "x = data.kyear\n",
    "y = data.co2\n"
   ]
  },
  {
   "cell_type": "code",
   "execution_count": 61,
   "metadata": {},
   "outputs": [],
   "source": [
    "# take data before industrial\n",
    "INDUSTRIAL_REVOLUTION = 1820\n",
    "YEAR_OF_LAST_DATA = 2001\n",
    "\n",
    "kyear_before = (INDUSTRIAL_REVOLUTION - YEAR_OF_LAST_DATA) / 1000\n",
    "\n",
    "data_before = data[data.kyear < kyear_before]\n",
    "x = data_before.kyear\n",
    "y = data_before.co2"
   ]
  },
  {
   "cell_type": "code",
   "execution_count": 62,
   "metadata": {},
   "outputs": [],
   "source": [
    "plt.figure()\n",
    "plt.title(\"Before Industrial Revolution\")\n",
    "plt.ylim([175, 375])\n",
    "plt.ylabel(\"CO2 concentration[ppm]\")\n",
    "plt.xlabel(\"time [kyear]\")\n",
    "plt.plot(x, y)\n",
    "plt.show()"
   ]
  },
  {
   "cell_type": "code",
   "execution_count": 68,
   "metadata": {},
   "outputs": [],
   "source": [
    "data_after = data[data.kyear >= kyear_before]\n",
    "x = data_after.kyear\n",
    "y = data_after.co2\n",
    "\n"
   ]
  },
  {
   "cell_type": "code",
   "execution_count": 69,
   "metadata": {},
   "outputs": [],
   "source": [
    "plt.figure()\n",
    "plt.title(\"After Industrial Revolution\")\n",
    "plt.ylabel(\"CO2 concentration[ppm]\")\n",
    "plt.xlabel(\"time [year]\")\n",
    "x_after = [(2001 - (-xt * 1000)) for xt in x]\n",
    "plt.plot(x_after, y)\n",
    "plt.show()"
   ]
  },
  {
   "cell_type": "code",
   "execution_count": 78,
   "metadata": {},
   "outputs": [],
   "source": [
    "# Different scale to show the rate of change\n",
    "\n",
    "plt.figure()\n",
    "plt.title(\"After Industrial Revolution (kyear scale)\")\n",
    "plt.xlim([-100, 100])\n",
    "plt.ylabel(\"CO2 concentration[ppm]\")\n",
    "plt.xlabel(\"time [kyear]\")\n",
    "plt.plot(x, y, color='red')\n",
    "plt.show()"
   ]
  },
  {
   "cell_type": "code",
   "execution_count": 80,
   "metadata": {},
   "outputs": [],
   "source": [
    "# Sine function model\n",
    "\n",
    "x = data_before.kyear\n",
    "y = data_before.co2\n",
    "\n",
    "x_sine = np.arange(-380.0, 0, 2)\n",
    "x_sine_prediction = np.arange(0, 80, 2)\n",
    "\n",
    "y_sine = np.sin((x_sine * np.pi/180) * 2.8 - 18) * 50 + 237\n",
    "y_sine_prediction = np.sin((x_sine_prediction * np.pi/180) * 2.8 - 18) * 50 + 237\n",
    "\n",
    "plt.figure(figsize=(9, 3))\n",
    "plt.title(\"Prediction of CO2 concentration\")\n",
    "plt.plot(x, y, color=\"grey\")\n",
    "\n",
    "plt.plot(x_sine, y_sine, color='blue')\n",
    "plt.plot(x_sine_prediction, y_sine_prediction, color='green', ls='--')\n",
    "plt.show()"
   ]
  },
  {
   "cell_type": "code",
   "execution_count": 85,
   "metadata": {},
   "outputs": [],
   "source": [
    "x_after = data_after.kyear\n",
    "y_after = data_after.co2\n",
    "\n",
    "x_sine = np.arange(-380.0, 0, 2)\n",
    "x_sine_prediction = np.arange(0, 80, 2)\n",
    "\n",
    "y_sine = np.sin((x_sine * np.pi/180) * 2.8 - 18) * 50 + 237\n",
    "y_sine_prediction = np.sin((x_sine_prediction * np.pi/180) * 2.8 - 18) * 50 + 237\n",
    "\n",
    "plt.figure(figsize=(9, 3))\n",
    "plt.title(\"Prediction of CO2 concentration\")\n",
    "real_data = plt.plot(x, y, color='grey', lw=1, label=\"CO2 before industrial revolution\")\n",
    "real_data2 = plt.plot(x_after, y_after, color='red', label=\"CO2 after industrial revolution\")\n",
    "\n",
    "model_data = plt.plot(x_sine, y_sine, color='blue', label=\"Model\")\n",
    "model_prediction = plt.plot(x_sine_prediction, y_sine_prediction, color='green', ls='--', label=\"Where CO2 should go\")\n",
    "\n",
    "# plt.legend([real_data, real_data2, model_data, model_prediction], \n",
    "#            [\"CO2 before industrial revolution\", \"CO2 after industrial revolution\", \"Model\", \"Where CO2 should go\"])\n",
    "\n",
    "plt.legend()\n",
    "plt.show()"
   ]
  },
  {
   "cell_type": "code",
   "execution_count": 206,
   "metadata": {},
   "outputs": [],
   "source": []
  },
  {
   "cell_type": "code",
   "execution_count": null,
   "metadata": {},
   "outputs": [],
   "source": []
  }
 ],
 "metadata": {
  "kernelspec": {
   "display_name": "Python 2",
   "language": "python",
   "name": "python2"
  },
  "language_info": {
   "codemirror_mode": {
    "name": "ipython",
    "version": 2
   },
   "file_extension": ".py",
   "mimetype": "text/x-python",
   "name": "python",
   "nbconvert_exporter": "python",
   "pygments_lexer": "ipython2",
   "version": "2.7.6"
  }
 },
 "nbformat": 4,
 "nbformat_minor": 0
}
