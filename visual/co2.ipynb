{
 "cells": [
  {
   "cell_type": "code",
   "execution_count": 1,
   "metadata": {
    "collapsed": true
   },
   "outputs": [],
   "source": [
    "%load_ext autoreload\n",
    "%autoreload 2\n",
    "\n"
   ]
  },
  {
   "cell_type": "code",
   "execution_count": 2,
   "metadata": {},
   "outputs": [],
   "source": [
    "from api import co2_api\n",
    "import numpy as np\n",
    "from matplotlib import pyplot as plt\n",
    "import pandas as pd\n",
    "plt.style.use('visual/PR.mplstyle')\n"
   ]
  },
  {
   "cell_type": "code",
   "execution_count": 3,
   "metadata": {},
   "outputs": [],
   "source": [
    "data = co2_api.get_data()\n",
    "\n",
    "x = data.kyear\n",
    "y = data.co2\n"
   ]
  },
  {
   "cell_type": "code",
   "execution_count": 4,
   "metadata": {},
   "outputs": [],
   "source": [
    "# take data before industrial\n",
    "INDUSTRIAL_REVOLUTION = 1820\n",
    "YEAR_OF_LAST_DATA = 2001\n",
    "\n",
    "kyear_before = (INDUSTRIAL_REVOLUTION - YEAR_OF_LAST_DATA) / 1000\n",
    "\n",
    "data_before = data[data.kyear < kyear_before]\n",
    "x = data_before.kyear\n",
    "y = data_before.co2"
   ]
  },
  {
   "cell_type": "code",
   "execution_count": 5,
   "metadata": {},
   "outputs": [],
   "source": [
    "plt.figure()\n",
    "plt.title(\"Before Industrial Revolution\")\n",
    "plt.ylim([175, 375])\n",
    "plt.ylabel(\"CO2 concentration[ppm]\")\n",
    "plt.xlabel(\"time [kyear]\")\n",
    "plt.plot(x, y)\n",
    "plt.show()"
   ]
  },
  {
   "cell_type": "code",
   "execution_count": 6,
   "metadata": {},
   "outputs": [],
   "source": [
    "data_after = data[data.kyear >= kyear_before]\n",
    "x = data_after.kyear\n",
    "y = data_after.co2\n",
    "\n"
   ]
  },
  {
   "cell_type": "code",
   "execution_count": 7,
   "metadata": {},
   "outputs": [],
   "source": [
    "plt.figure()\n",
    "plt.title(\"After Industrial Revolution\")\n",
    "plt.ylabel(\"CO2 concentration[ppm]\")\n",
    "plt.xlabel(\"time [year]\")\n",
    "x_after = [(2001 - (-xt * 1000)) for xt in x]\n",
    "plt.plot(x_after, y)\n",
    "plt.show()"
   ]
  },
  {
   "cell_type": "code",
   "execution_count": 8,
   "metadata": {},
   "outputs": [],
   "source": [
    "# Different scale to show the rate of change\n",
    "\n",
    "plt.figure()\n",
    "plt.title(\"After Industrial Revolution (kyear scale)\")\n",
    "plt.xlim([-100, 100])\n",
    "plt.ylabel(\"CO2 concentration[ppm]\")\n",
    "plt.xlabel(\"time [kyear]\")\n",
    "plt.plot(x, y, color='red')\n",
    "plt.show()"
   ]
  },
  {
   "cell_type": "code",
   "execution_count": 9,
   "metadata": {},
   "outputs": [],
   "source": [
    "# Sine function model\n",
    "\n",
    "x = data_before.kyear\n",
    "y = data_before.co2\n",
    "\n",
    "x_sine = np.arange(-380.0, 0, 2)\n",
    "x_sine_prediction = np.arange(0, 80, 2)\n",
    "\n",
    "y_sine = np.sin((x_sine * np.pi/180) * 2.8 - 18) * 50 + 237\n",
    "y_sine_prediction = np.sin((x_sine_prediction * np.pi/180) * 2.8 - 18) * 50 + 237\n",
    "\n",
    "plt.figure(figsize=(9, 3))\n",
    "plt.title(\"Prediction of CO2 concentration\")\n",
    "plt.plot(x, y, color=\"grey\")\n",
    "\n",
    "plt.plot(x_sine, y_sine, color='blue')\n",
    "plt.plot(x_sine_prediction, y_sine_prediction, color='green', ls='--')\n",
    "plt.show()"
   ]
  },
  {
   "cell_type": "code",
   "execution_count": 10,
   "metadata": {},
   "outputs": [],
   "source": [
    "x_after = data_after.kyear\n",
    "y_after = data_after.co2\n",
    "\n",
    "x_sine = np.arange(-380.0, 0, 2)\n",
    "x_sine_prediction = np.arange(0, 80, 2)\n",
    "\n",
    "y_sine = np.sin((x_sine * np.pi/180) * 2.8 - 18) * 50 + 237\n",
    "y_sine_prediction = np.sin((x_sine_prediction * np.pi/180) * 2.8 - 18) * 50 + 237\n",
    "\n",
    "plt.figure(figsize=(9, 3))\n",
    "plt.title(\"Prediction of CO2 concentration\")\n",
    "real_data = plt.plot(x, y, color='grey', lw=1, label=\"CO2 before industrial revolution\")\n",
    "real_data2 = plt.plot(x_after, y_after, color='red', label=\"CO2 after industrial revolution\")\n",
    "\n",
    "model_data = plt.plot(x_sine, y_sine, color='blue', label=\"Model\")\n",
    "model_prediction = plt.plot(x_sine_prediction, y_sine_prediction, color='green', ls='--', label=\"Where CO2 should go\")\n",
    "\n",
    "\n",
    "plt.legend()\n",
    "plt.show()"
   ]
  },
  {
   "cell_type": "code",
   "execution_count": 11,
   "metadata": {
    "collapsed": true
   },
   "outputs": [
    {
     "data": {
      "text/plain": [
       "Index(['dt', 'AverageTemperature', 'AverageTemperatureUncertainty', 'Country'], dtype='object')"
      ]
     },
     "execution_count": 11,
     "metadata": {},
     "output_type": "execute_result"
    }
   ],
   "source": [
    "\n",
    "from api import temperatures_api\n",
    "import datetime\n",
    "\n",
    "temp_data = temperatures_api.get_data()\n",
    "temp_data.columns\n"
   ]
  },
  {
   "cell_type": "code",
   "execution_count": 24,
   "metadata": {
    "collapsed": true
   },
   "outputs": [
    {
     "name": "stdout",
     "output_type": "stream",
     "text": [
      "227247\n"
     ]
    }
   ],
   "source": [
    "# keep only countries that have consistent record from 1820 to 2013\n",
    "countries = temp_data.Country.unique()\n",
    "\n",
    "date1820 = datetime.datetime(1820, 1, 1, 1)\n",
    "temp_data_sub = temp_data[temp_data.dt >= date1820]\n",
    "# 193 * 12 = 2316 # take countries with at least 2200 records\n",
    "\n",
    "country_df = temp_data_sub.groupby('Country').AverageTemperature.count()\n",
    "valid_countries = country_df[country_df > 2200].index\n",
    "temp_data_valid = temp_data[temp_data_sub.Country.isin(valid_countries)]        \n",
    "print(len(temp_data))"
   ]
  },
  {
   "cell_type": "code",
   "execution_count": 23,
   "metadata": {
    "collapsed": true
   },
   "outputs": [
    {
     "data": {
      "text/plain": [
       "(95, 98)"
      ]
     },
     "execution_count": 23,
     "metadata": {},
     "output_type": "execute_result"
    }
   ],
   "source": [
    ""
   ]
  },
  {
   "cell_type": "code",
   "execution_count": 25,
   "metadata": {},
   "outputs": [],
   "source": [
    "global_temps = temp_data_valid.groupby(pd.Grouper(key=\"dt\", freq='Y')).mean().dropna()\n",
    "x = global_temps.index\n",
    "y = global_temps.AverageTemperature\n",
    "\n",
    "\n",
    "plt.figure()\n",
    "\n",
    "plt.title(\"Average global temperatures\")\n",
    "plt.xlabel(\"year\")\n",
    "plt.ylabel(\"Temperature [degrees Celsius]\")\n",
    "plt.plot(x.values, y.values)\n",
    "plt.show()\n"
   ]
  },
  {
   "cell_type": "code",
   "execution_count": 39,
   "metadata": {},
   "outputs": [],
   "source": [
    "from math import floor\n",
    "global_temps = temp_data.groupby(pd.Grouper(key=\"dt\", freq='Y')).mean().dropna()\n",
    "x = global_temps.index\n",
    "y = global_temps.AverageTemperature\n",
    "\n",
    "\n",
    "y_co2 = data_after.co2\n",
    "x_co2k = data_after.kyear\n",
    "x_co2 = []\n",
    "for t in x_co2k:\n",
    "    ye = (2001 - (-t * 1000))\n",
    "    yc = floor(ye)\n",
    "    mc = floor((ye - yc) * 12 + 1)\n",
    "    tc = datetime.datetime(yc, mc, 1)\n",
    "    x_co2.append(tc)\n",
    "    \n",
    "\n",
    "fig, ax1 = plt.subplots()\n",
    "ax1.plot(x, y, 'b-', label=\"Temperature\")\n",
    "ax1.set_xlabel('year')\n",
    "ax1.set_ylabel('Temperature [Celsius]')\n",
    "ax1.tick_params('y', colors='b')\n",
    "\n",
    "ax2 = ax1.twinx()\n",
    "ax2.plot(x_co2, y_co2, 'r-', label=\"CO2\")\n",
    "ax2.set_ylabel('CO2 concentration [ppm]')\n",
    "ax2.tick_params('y', colors='r')\n",
    "\n",
    "fig.tight_layout()\n",
    "plt.title(\"Global temperatures and CO2 correlation\")\n",
    "ax1.legend()\n",
    "ax2.legend(loc=1)\n",
    "plt.show()\n"
   ]
  },
  {
   "cell_type": "code",
   "execution_count": 81,
   "metadata": {},
   "outputs": [
    {
     "data": {
      "text/plain": [
       "0.6595854104006493"
      ]
     },
     "execution_count": 82,
     "metadata": {},
     "output_type": "execute_result"
    }
   ],
   "source": [
    "from sklearn.linear_model import Ridge, LinearRegression\n"
   ]
  },
  {
   "cell_type": "code",
   "execution_count": null,
   "metadata": {},
   "outputs": [
    {
     "data": {
      "text/plain": [
       "0.6595854104006493"
      ]
     },
     "execution_count": 82,
     "metadata": {},
     "output_type": "execute_result"
    }
   ],
   "source": [
    "ridge = Ridge(alpha=0.1)\n",
    "x_data = np.array([t.year + (t.month - 1) / 12 + (t.day - 1) / 365 for t in x])\n",
    "x_data = x_data.reshape(-1, 1)\n",
    "y_data = np.array(y)\n",
    "\n",
    "\n",
    "ridge.fit(x_data, y)\n",
    "\n",
    "y_predict = ridge.predict(x_data)\n",
    "print(ridge.score(x_data, y))\n"
   ]
  },
  {
   "cell_type": "code",
   "execution_count": 82,
   "metadata": {},
   "outputs": [
    {
     "data": {
      "text/plain": [
       "0.6595854104006493"
      ]
     },
     "execution_count": 82,
     "metadata": {},
     "output_type": "execute_result"
    }
   ],
   "source": [
    "linear_model = LinearRegression()\n",
    "linear_model.fit(x_data, y)\n",
    "linear_model.score(x_data, y)\n"
   ]
  },
  {
   "cell_type": "code",
   "execution_count": 79,
   "metadata": {},
   "outputs": [
    {
     "data": {
      "text/plain": [
       "0.6595854104006493"
      ]
     },
     "execution_count": 82,
     "metadata": {},
     "output_type": "execute_result"
    }
   ],
   "source": [
    "# Ustvarimo ustrezen prostor\n",
    "D = 50\n",
    "X = np.zeros((len(x_data), D))\n",
    "for d in range(0, D):\n",
    "    X[:, d] = x_data.ravel()**d\n",
    "\n",
    "model = Ridge(alpha=1.0, normalize=True)\n",
    "model.fit(X, y)\n",
    "\n",
    "y_predict = model.predict(X)\n",
    "print(model.score(X, y))"
   ]
  },
  {
   "cell_type": "code",
   "execution_count": 80,
   "metadata": {},
   "outputs": [],
   "source": [
    "plt.figure()\n",
    "plt.plot(x_data, y_predict)\n",
    "plt.show()"
   ]
  },
  {
   "cell_type": "code",
   "execution_count": null,
   "metadata": {},
   "outputs": [],
   "source": []
  }
 ],
 "metadata": {
  "kernelspec": {
   "display_name": "Python 2",
   "language": "python",
   "name": "python2"
  },
  "language_info": {
   "codemirror_mode": {
    "name": "ipython",
    "version": 2
   },
   "file_extension": ".py",
   "mimetype": "text/x-python",
   "name": "python",
   "nbconvert_exporter": "python",
   "pygments_lexer": "ipython2",
   "version": "2.7.6"
  }
 },
 "nbformat": 4,
 "nbformat_minor": 0
}
