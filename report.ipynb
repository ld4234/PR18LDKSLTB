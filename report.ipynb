{
 "cells": [
  {
   "cell_type": "markdown",
   "metadata": {},
   "source": [
    "# Globalno segrevanje"
   ]
  },
  {
   "cell_type": "markdown",
   "metadata": {},
   "source": [
    "4.6.2018"
   ]
  },
  {
   "cell_type": "markdown",
   "metadata": {},
   "source": [
    "Avtorji: Luka Dover, Kristian Šenk, Luka Todorovič"
   ]
  },
  {
   "cell_type": "markdown",
   "metadata": {},
   "source": [
    "# Uvod"
   ]
  },
  {
   "cell_type": "markdown",
   "metadata": {},
   "source": [
    "Ste se že vprašali ali je globalno segrevanje resnično? Kakšne so posledice in kako hitro bodo posledice močno vplivale na naša življenja? Kakšne možnosti imamo za preživetje in kje bi lahko našli rešitve? Bi bilo mogoče pametno proste popoldneve posvetiti gradnji Noetove barke? Odgovore na zgornja vprašanja in še mnoga druga, bomo poskušali odgovoriti pri našem projektu o globalnem segrevanju. Analizirali bomo podatki in s tem skušali ugotoviti vse dejavnike okoli tega problema. Predstavili bomo, kako sprememba vremena lahko vpliva na druge aspekte življenja, kot so izumrtja živali, njihove migracije, ekonomske spremembe ..."
   ]
  },
  {
   "cell_type": "markdown",
   "metadata": {},
   "source": [
    "## Kaj sploh je globalno segrevanje?\n",
    "Planet se hitro segreva, ledeniki se topijo, gladina morja pa narašča. Vse to pa je posledica toplogrednih plinov, ki so v zadnjih 650 000 letih na najvišji ravni. Rezultatu tega rečemo globalno segrevanje, ki vpliva na podnebje Zemlje, dolgoročno tudi vremena. Zaradi segrevanja pa so se začeli topiti tudi ledeniki, kar povzroča dvig morske gladine in pa manjši odboj sončnih žarkov (ledenik odbije 50-70% sončnih žarkov, medtem ko oceani zgolj 6%, kar pa dodatno pripomore k segrevanju ozračja).\n",
    "\n",
    "## Kako je z naravnimi katastrofami?\n",
    "Naravne katastrofe obstajajo že od nekdaj, ampak ali se je število le teh kaj povečalo?\n",
    "\n",
    "Kakšni bode posledice globalnega segrevanja na naravne katastrofe?\n",
    "\n",
    "Z naraščanjem temperatur oceanov pričakujemo intenzivnejše in bolj uničujoče nevihte,  ki terjajo vse več življenj in ekonomskih stroškov. Hurikan Sandy leta 2012, v katerem je preminilo 233 človeških življenj, je povročil škodo vredno 68.7 bilijonov dolarjev. \n",
    "\n",
    "Z naraščanjem gladine oceanov, kot posledica taljenja ledenikov, se nam obeta popolno izgonitje obalnih habitatov, ekosistemov in živali navezanih na njih. Nekatere živali (tudi ljudje) bodo seveda migrirale v druge regije in habitate. V novem ekosistemu bodo povsem verjetno postale invazivne vrste in ga  čisto obrnile na glavo, v primeru ljudi pa bodo po izgubi svojega doma postali nezaželeni migranti.\n",
    "\n",
    "Z večanjem energije v našem ozračju, kot posledica tople grede,  lahko pričakujemo vse več dogodkov ekstremnih temperatur, ki pa niso tako zanemarljivi. Ne samo iz ekonomskega stališča (večji stroški hlajenja ali ogrevanja), ampak predvsem iz stališča človeških življenj. Ljudje dejansko podležejo takšnim temperaturnim viškom ali nižkom. Samo v sloveniji je avgusta leta 2003 po ocenah raziskovalcev preminilo 81 ljudi.\n",
    "\n",
    "**Naš cilj je prikazati ali je smiselno služiti na račun poseganja v podnebje našega planeta**. Industrije in uporaba naftnih goriv, dva največja vira emisij ogljikovega dioskida, sta trenutno privlačna iz gospodarskih in ekonomskih razlogov.  Morda se donosnost teh naložb, ki pripomorejo k segrevanju ozračja,  splača le na kratki rok, ampak ne na dolgi rok. Zagotovo obstaja točka na kateri bo človeštvo zapravilo več denarja in virov, da se bo bojevalo proti pobeglim učinkom tople grede, kot pa jih je proizvedlo z uporabo teh kratkovidnih in škodljivih metod.\n",
    "\n",
    "\n",
    "Podatki:\n",
    " - The International Disaster Database (http://www.emdat.be)\n",
    "\n",
    "## Katere živali so ogrožene?\n",
    "Ob spreminjanju podnebja, pa se nekatere živalske vrste ne morejo prilagoditi hitrim spremembam, zato začnejo izumirati. \n",
    "\n",
    "Kot nalogo smo si zadali, da ugotovimo katere živalske vrste so začele izumirati in kakšen je vzrok zato. Ali smo krivi mi zaradi globalnega segrevanja?\n",
    "\n",
    "Najtežji del pri tej nalogi je pridobitev potrebnih podatkov, s katerimi bi lahko prišli do odgovora na dano vprašanje.\n",
    "\n",
    "Podatki:\n",
    "- http://www.iucnredlist.org/technical-documents/spatial-data\n",
    "\n",
    "Učinek tople grede\n",
    "Skoraj vsaka razprava o globalnem segrevanju pa se začne z ogljikovim dioksidom. To pa zato, ker je njegova molekulska struktura enaka toplogrednim plinom, kar pomeni, da spušča skozi vidno svetlobo, infrardečo svetlobo pa absorbira. Pri tem se absorbirana toplota začne širiti v vse smeri, del toplotnega sevanja pa se vrne nazaj proti površini (v nižje plasti ozračja). Kot rezultat je temperatura višja, kot bi bila, če bi bilo ogrevanje zemljinega površja samo s sončnim sevanjem, edinim virom ogrevanja Zemlje. Poleg CO2, pa na k učinku tople grede na zemlji vpliaju tudi naslednji plini:\n",
    "vodna para (H20): njen prispevek je od 36% do 70%,\n",
    "ogljikov dioksid (CO2): njegov prispevek je od 9% pa do 26%,\n",
    "metan(CH4): njegov prispevek je od 4% pa do 9%,\n",
    "ozon (O3): je prispevek od 3% pa do 7%.\n",
    "PODATKI:\n",
    "\n",
    "S podatkov smo uspeli razbrati, da se je količina količina ogljikovega dioksida od leta 1955 povečala za kar 100%.\n",
    "\n",
    "#Vprašanja\n",
    "\n",
    "[Graf smrti v sloveniji med vrčinskim valom 2013](https://github.com/ld4234/PR18LDKSLTB/blob/master/visual/SloDeaths.png)\n",
    "\n",
    "[vizualizacije](https://drive.google.com/open?id=1U-pnOt0Qi2mg21TSK32i37k_SFC3LcoK)\n",
    "\n",
    "\n",
    "\n",
    "## Temperature\n",
    "\n",
    "Temperaturne spremembe so najbolj vidna posledica globalnega segrevanja. Klimatologi se strinjajo, da se je Zemlja segrela pred kratkim.\n",
    "\n",
    "Dokaz za segrevanje podnebnega sistema vključuje opaženo povečane povprečne planetarne temperature ozračja in oceanov, močno pospešeno taljenje snega in ledu in naraščanje povprečne gladine morja. Najpogostejše merilo globalnega segrevanja je merjenje povprečne globalne temperature v globini zemeljske površine.\n",
    "\n",
    "\n",
    "Poskušali smo prikazati, kako co2 vpliva na spremembo temperature (višja stopnja co2 naj bi pomenila zvišanje temperature?)\n"
   ]
  },
  {
   "cell_type": "code",
   "execution_count": null,
   "metadata": {},
   "outputs": [],
   "source": [
    "import matplotlib.pyplot as plt\n",
    "from csv import DictReader\n",
    "\n",
    "reader = DictReader(open('data/GlobalTemperatures.csv', 'rt', encoding='utf-8'))\n",
    "temp = []\n",
    "for row in reader:\n",
    "    if(int(row[\"dt\"][:4]) > 1957):\n",
    "        try:\n",
    "            temp.append(float(row[\"LandAverageTemperature\"]))\n",
    "        except:\n",
    "            temp.append(temp[-1])\n",
    "\n",
    "reader = DictReader(open('data/co2_by_year.csv', 'rt', encoding='utf-8'))\n",
    "co2 = []\n",
    "for row in reader:\n",
    "    if(int(row[\"Year\"]) < 2016):\n",
    "        try:\n",
    "            co2.append(float(row[\"Carbon Dioxide (ppm)\"]))\n",
    "        except:\n",
    "            try:\n",
    "                co2.append(co2[-1])\n",
    "            except:\n",
    "                co2.append(315)\n",
    "\n",
    "plt.figure()\n",
    "plt.plot(co2, temp, 'r')\n",
    "axes = plt.gca()\n",
    "axes.set_ylim([0,max(temp)])\n",
    "axes.set_xlim([min(co2),max(co2)])\n",
    "plt.ylabel('Povprecna temperatura')\n",
    "plt.xlabel('Vrednost co2 ppm');\n",
    "plt.title(\"Odvisnost med temperaturo in co2\")\n",
    "plt.show()"
   ]
  },
  {
   "cell_type": "markdown",
   "metadata": {},
   "source": [
    "Zal se iz grafa te korelacije ne vidi, ampak ali to res pomeni, da ne obstaja?\n",
    "\n",
    "Stopnja co2 se s časom povečuje - nedolgo nazaj smo prestopili mejo 400 milijonov delcev na koncentracijo atmosferskega CO2 in sicer iz 288ppm, ki pa je znašala pred industrijsko revolucijo, kar pomeni 43% povečanje.\n",
    "\n",
    "Zemlja ima z majhno mero toplogrednih plinov temperaturo približno 30 stopinj celzija. Kaj pa sedaj ko se je količina co2 povečala za 43% procentov? Ali se bo temperatura dvignila tudi za 43%?\n",
    "\n",
    "Odgovor je seveda ne in zato obstaja kar nekaj razlogov. Povečanje co2 za 43%, še ne pomeni, da se je toliko povečala učinek tople grede. Sprememba podnebja je kompleksen proces in je zato težko ločiti naravne podnebne spremembe od človeških posegov, ki so se močneje pojavili šele sedaj.\n",
    "\n",
    "Torej temperature ne naraščajo z enako mero kot narašča co2. Trenutno se je podnebje segrelo le za 0.8 stopinja celzije."
   ]
  },
  {
   "cell_type": "markdown",
   "metadata": {},
   "source": [
    "Pa si poglejmo še kako so temperature razporejene po zvezdnih drzavah. Rezultati so pričakovani, države bližje ekvatorju imajo tudi višje temperature."
   ]
  },
  {
   "cell_type": "code",
   "execution_count": null,
   "metadata": {},
   "outputs": [],
   "source": [
    "import plotly.plotly as py\n",
    "from plotly.graph_objs import *\n",
    "py.sign_in('kristian32', 'yKfcunxV5ywQ4S1omxf8')\n",
    "f = open(\"data/temp_us_states.csv\",\"r\")\n",
    "seznam = f.read().replace(\"\\n\",\"\\t\").split(\"\\t\")[2::4]\n",
    "seznam_napisov =  []\n",
    "sez = [\"Alabama<br>\", \"Alaska<br>\", \"Arizona<br>\", \"Arkansas<br>\", \"California<br>\", \"Colorado<br>\", \"Connecticut<br>\", \"Delaware<br>\", \"Florida<br>\", \"Georgia<br>\", \"Hawaii<br>\", \"Idaho<br>\", \"Illinois<br>\", \"Indiana<br>\", \"Iowa<br>\", \"Kansas<br>\", \"Kentucky<br>\", \"Louisiana<br>\", \"Maine<br>\", \"Maryland<br>\", \"Massachusetts<br>\", \"Michigan<br>\", \"Minnesota<br>\", \"Mississippi<br>\", \"Missouri<br>\", \"Montana<br>\", \"Nebraska<br>\", \"Nevada<br>\", \"New Hampshire<br>\", \"New Jersey<br>\", \"New Mexico<br>\", \"New York<br>\", \"North Carolina<br>\", \"North Dakota<br>\", \"Ohio<br>\", \"Oklahoma<br>\", \"Oregon<br>\", \"Pennsylvania<br>\", \"Rhode Island<br>\", \"South Carolina<br>\", \"South Dakota<br>\", \"Tennessee<br>\", \"Texas<br>\", \"Utah<br>\", \"Vermont<br>\", \"Virginia<br>\", \"Washington<br>\", \"West Virginia<br>\", \"Wisconsin<br>\", \"Wyoming<br>\"]\n",
    "\n",
    "for i in range(len(seznam_napisov)):\n",
    "    seznam_napisov.append(sez[i]+\" \"+seznam[i])\n",
    "\n",
    "trace1 = {\n",
    "  \"z\": seznam,\n",
    "  \"autocolorscale\": False,\n",
    "  \"colorbar\": {\"title\": \"yearBP\"},\n",
    "  \"colorscale\": [\n",
    "    [0, \"rgb(242,240,247)\"], [0.2, \"rgb(218,218,235)\"], [0.4, \"rgb(188,189,220)\"], [0.6, \"rgb(158,154,200)\"], [0.8, \"rgb(117,107,177)\"], [1.0, \"rgb(84,39,143)\"]],\n",
    "  \"locationmode\": \"USA-states\",\n",
    "  \"locations\": [\"AL\", \"AK\", \"AZ\", \"AR\", \"CA\", \"CO\", \"CT\", \"DE\", \"FL\", \"GA\", \"HI\", \"ID\", \"IL\", \"IN\", \"IA\", \"KS\", \"KY\", \"LA\", \"ME\", \"MD\", \"MA\", \"MI\", \"MN\", \"MS\", \"MO\", \"MT\", \"NE\", \"NV\", \"NH\", \"NJ\", \"NM\", \"NY\", \"NC\", \"ND\", \"OH\", \"OK\", \"OR\", \"PA\", \"RI\", \"SC\", \"SD\", \"TN\", \"TX\", \"UT\", \"VT\", \"VA\", \"WA\", \"WV\", \"WI\", \"WY\"],\n",
    "  \"locationssrc\": \"kristian32:0:7af93d\",\n",
    "  \"marker\": {\"line\": {\n",
    "      \"color\": \"rgb(255,255,255)\",\n",
    "      \"width\": 2\n",
    "    }},\n",
    "  \"name\": \"z\",\n",
    "  \"text\": seznam_napisov,\n",
    "  \"textsrc\": \"kristian32:0:01ba27\",\n",
    "  \"type\": \"choropleth\",\n",
    "  \"uid\": \"105dc6\",\n",
    "  \"zauto\": False,\n",
    "  \"zmax\": 20,\n",
    "  \"zmin\": -5,\n",
    "  \"zsrc\": \"kristian32:0:b28ef3\"\n",
    "}\n",
    "data = Data([trace1])\n",
    "layout = {\n",
    "  \"autosize\": False,\n",
    "  \"geo\": {\n",
    "    \"center\": {\n",
    "      \"lat\": 28.3626302944,\n",
    "      \"lon\": -101.579079144\n",
    "    },\n",
    "    \"lakecolor\": \"rgb(255, 255, 255)\",\n",
    "    \"projection\": {\n",
    "      \"scale\": 0.613017430027,\n",
    "      \"type\": \"albers usa\"\n",
    "    },\n",
    "    \"scope\": \"world\",\n",
    "    \"showlakes\": True\n",
    "  },\n",
    "  \"title\": \"US temperatures 2018\"\n",
    "}\n",
    "fig = Figure(data=data, layout=layout)\n",
    "plot_url = py.plot(fig)"
   ]
  },
  {
   "cell_type": "code",
   "execution_count": null,
   "metadata": {},
   "outputs": [],
   "source": []
  }
 ],
 "metadata": {
  "kernelspec": {
   "display_name": "Python 3",
   "language": "python",
   "name": "python3"
  },
  "language_info": {
   "codemirror_mode": {
    "name": "ipython",
    "version": 3
   },
   "file_extension": ".py",
   "mimetype": "text/x-python",
   "name": "python",
   "nbconvert_exporter": "python",
   "pygments_lexer": "ipython3",
   "version": "3.6.4"
  }
 },
 "nbformat": 4,
 "nbformat_minor": 2
}
