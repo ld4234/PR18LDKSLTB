{
 "cells": [
  {
   "cell_type": "markdown",
   "metadata": {},
   "source": [
    "# Globalno segrevanje"
   ]
  },
  {
   "cell_type": "markdown",
   "metadata": {},
   "source": [
    "4.6.2018"
   ]
  },
  {
   "cell_type": "markdown",
   "metadata": {},
   "source": [
    "Avtorji: Luka Dover, Kristian Šenk, Luka Todorovič"
   ]
  },
  {
   "cell_type": "markdown",
   "metadata": {},
   "source": [
    "# Uvod"
   ]
  },
  {
   "cell_type": "markdown",
   "metadata": {},
   "source": [
    "Ste se že vprašali ali je globalno segrevanje resnično? Kakšne so posledice in kako hitro bodo posledice močno vplivale na naša življenja? Kakšne možnosti imamo za preživetje in kje bi lahko našli rešitve? Bi bilo mogoče pametno proste popoldneve posvetiti gradnji Noetove barke? Odgovore na zgornja vprašanja in še mnoga druga, bomo poskušali odgovoriti pri našem projektu o globalnem segrevanju. Analizirali bomo podatki in s tem skušali ugotoviti vse dejavnike okoli tega problema. Predstavili bomo, kako sprememba vremena lahko vpliva na druge aspekte življenja, kot so izumrtja živali, njihove migracije, ekonomske spremembe ..."
   ]
  },
  {
   "cell_type": "markdown",
   "metadata": {},
   "source": [
    "## Kaj sploh je globalno segrevanje?\n",
    "Planet se hitro segreva, ledeniki se topijo, gladina morja pa narašča. Vse to pa je posledica toplogrednih plinov, ki so v zadnjih 650 000 letih na najvišji ravni. Rezultatu tega rečemo globalno segrevanje, ki vpliva na podnebje Zemlje, dolgoročno tudi vremena. Zaradi segrevanja pa so se začeli topiti tudi ledeniki, kar povzroča dvig morske gladine in pa manjši odboj sončnih žarkov (ledenik odbije 50-70% sončnih žarkov, medtem ko oceani zgolj 6%, kar pa dodatno pripomore k segrevanju ozračja).\n",
    "\n",
    "## Kako je z naravnimi katastrofami?\n",
    "Naravne katastrofe obstajajo že od nekdaj, ampak ali se je število le teh kaj povečalo?\n",
    "\n",
    "Kakšni bode posledice globalnega segrevanja na naravne katastrofe?\n",
    "\n",
    "Z naraščanjem temperatur oceanov pričakujemo intenzivnejše in bolj uničujoče nevihte,  ki terjajo vse več življenj in ekonomskih stroškov. Hurikan Sandy leta 2012, v katerem je preminilo 233 človeških življenj, je povročil škodo vredno 68.7 bilijonov dolarjev. \n",
    "\n",
    "Z naraščanjem gladine oceanov, kot posledica taljenja ledenikov, se nam obeta popolno izgonitje obalnih habitatov, ekosistemov in živali navezanih na njih. Nekatere živali (tudi ljudje) bodo seveda migrirale v druge regije in habitate. V novem ekosistemu bodo povsem verjetno postale invazivne vrste in ga  čisto obrnile na glavo, v primeru ljudi pa bodo po izgubi svojega doma postali nezaželeni migranti.\n",
    "\n",
    "Z večanjem energije v našem ozračju, kot posledica tople grede,  lahko pričakujemo vse več dogodkov ekstremnih temperatur, ki pa niso tako zanemarljivi. Ne samo iz ekonomskega stališča (večji stroški hlajenja ali ogrevanja), ampak predvsem iz stališča človeških življenj. Ljudje dejansko podležejo takšnim temperaturnim viškom ali nižkom. Samo v sloveniji je avgusta leta 2003 po ocenah raziskovalcev preminilo 81 ljudi.\n",
    "\n",
    "**Naš cilj je prikazati ali je smiselno služiti na račun poseganja v podnebje našega planeta**. Industrije in uporaba naftnih goriv, dva največja vira emisij ogljikovega dioskida, sta trenutno privlačna iz gospodarskih in ekonomskih razlogov.  Morda se donosnost teh naložb, ki pripomorejo k segrevanju ozračja,  splača le na kratki rok, ampak ne na dolgi rok. Zagotovo obstaja točka na kateri bo človeštvo zapravilo več denarja in virov, da se bo bojevalo proti pobeglim učinkom tople grede, kot pa jih je proizvedlo z uporabo teh kratkovidnih in škodljivih metod.\n",
    "\n",
    "\n",
    "Podatki:\n",
    " - The International Disaster Database (http://www.emdat.be)\n",
    "\n",
    "## Katere živali so ogrožene?\n",
    "Ob spreminjanju podnebja, pa se nekatere živalske vrste ne morejo prilagoditi hitrim spremembam, zato začnejo izumirati. \n",
    "\n",
    "Kot nalogo smo si zadali, da ugotovimo katere živalske vrste so začele izumirati in kakšen je vzrok zato. Ali smo krivi mi zaradi globalnega segrevanja?\n",
    "\n",
    "Najtežji del pri tej nalogi je pridobitev potrebnih podatkov, s katerimi bi lahko prišli do odgovora na dano vprašanje.\n",
    "\n",
    "Podatki:\n",
    "- http://www.iucnredlist.org/technical-documents/spatial-data\n",
    "\n",
    "Učinek tople grede\n",
    "Skoraj vsaka razprava o globalnem segrevanju pa se začne z ogljikovim dioksidom. To pa zato, ker je njegova molekulska struktura enaka toplogrednim plinom, kar pomeni, da spušča skozi vidno svetlobo, infrardečo svetlobo pa absorbira. Pri tem se absorbirana toplota začne širiti v vse smeri, del toplotnega sevanja pa se vrne nazaj proti površini (v nižje plasti ozračja). Kot rezultat je temperatura višja, kot bi bila, če bi bilo ogrevanje zemljinega površja samo s sončnim sevanjem, edinim virom ogrevanja Zemlje. Poleg CO2, pa na k učinku tople grede na zemlji vpliaju tudi naslednji plini:\n",
    "vodna para (H20): njen prispevek je od 36% do 70%,\n",
    "ogljikov dioksid (CO2): njegov prispevek je od 9% pa do 26%,\n",
    "metan(CH4): njegov prispevek je od 4% pa do 9%,\n",
    "ozon (O3): je prispevek od 3% pa do 7%.\n",
    "PODATKI:\n",
    "\n",
    "S podatkov smo uspeli razbrati, da se je količina količina ogljikovega dioksida od leta 1955 povečala za kar 100%.\n",
    "\n",
    "#Vprašanja\n",
    "\n",
    "[Graf smrti v sloveniji med vrčinskim valom 2013](https://github.com/ld4234/PR18LDKSLTB/blob/master/visual/SloDeaths.png)\n",
    "\n",
    "[vizualizacije](https://drive.google.com/open?id=1U-pnOt0Qi2mg21TSK32i37k_SFC3LcoK)\n",
    "\n",
    "\n",
    "\n",
    "## Temperature\n",
    "\n",
    "Temperaturne spremembe so najbolj vidna posledica globalnega segrevanja. Klimatologi se strinjajo, da se je Zemlja segrela pred kratkim.\n",
    "\n",
    "Dokaz za segrevanje podnebnega sistema vključuje opaženo povečane povprečne planetarne temperature ozračja in oceanov, močno pospešeno taljenje snega in ledu in naraščanje povprečne gladine morja. Najpogostejše merilo globalnega segrevanja je merjenje povprečne globalne temperature v globini zemeljske površine.\n",
    "\n",
    "\n",
    "Poskušali smo prikazati, kako co2 vpliva na spremembo temperature (višja stopnja co2 naj bi pomenila zvišanje temperature?)\n"
   ]
  },
  {
   "cell_type": "code",
   "execution_count": 3,
   "metadata": {},
   "outputs": [
    {
     "ename": "FileNotFoundError",
     "evalue": "[Errno 2] No such file or directory: 'data/GlobalTemperatures.csv'",
     "output_type": "error",
     "traceback": [
      "\u001b[0;31m---------------------------------------------------------------------------\u001b[0m",
      "\u001b[0;31mFileNotFoundError\u001b[0m                         Traceback (most recent call last)",
      "\u001b[0;32m<ipython-input-3-e9faf84ca106>\u001b[0m in \u001b[0;36m<module>\u001b[0;34m()\u001b[0m\n\u001b[1;32m      2\u001b[0m \u001b[0;32mfrom\u001b[0m \u001b[0mcsv\u001b[0m \u001b[0;32mimport\u001b[0m \u001b[0mDictReader\u001b[0m\u001b[0;34m\u001b[0m\u001b[0m\n\u001b[1;32m      3\u001b[0m \u001b[0;34m\u001b[0m\u001b[0m\n\u001b[0;32m----> 4\u001b[0;31m \u001b[0mreader\u001b[0m \u001b[0;34m=\u001b[0m \u001b[0mDictReader\u001b[0m\u001b[0;34m(\u001b[0m\u001b[0mopen\u001b[0m\u001b[0;34m(\u001b[0m\u001b[0;34m'data/GlobalTemperatures.csv'\u001b[0m\u001b[0;34m,\u001b[0m \u001b[0;34m'rt'\u001b[0m\u001b[0;34m,\u001b[0m \u001b[0mencoding\u001b[0m\u001b[0;34m=\u001b[0m\u001b[0;34m'utf-8'\u001b[0m\u001b[0;34m)\u001b[0m\u001b[0;34m)\u001b[0m\u001b[0;34m\u001b[0m\u001b[0m\n\u001b[0m\u001b[1;32m      5\u001b[0m \u001b[0mtemp\u001b[0m \u001b[0;34m=\u001b[0m \u001b[0;34m[\u001b[0m\u001b[0;34m]\u001b[0m\u001b[0;34m\u001b[0m\u001b[0m\n\u001b[1;32m      6\u001b[0m \u001b[0;32mfor\u001b[0m \u001b[0mrow\u001b[0m \u001b[0;32min\u001b[0m \u001b[0mreader\u001b[0m\u001b[0;34m:\u001b[0m\u001b[0;34m\u001b[0m\u001b[0m\n",
      "\u001b[0;31mFileNotFoundError\u001b[0m: [Errno 2] No such file or directory: 'data/GlobalTemperatures.csv'"
     ]
    }
   ],
   "source": [
    "import matplotlib.pyplot as plt\n",
    "from csv import DictReader\n",
    "\n",
    "reader = DictReader(open('data/GlobalTemperatures.csv', 'rt', encoding='utf-8'))\n",
    "temp = []\n",
    "for row in reader:\n",
    "    if(int(row[\"dt\"][:4]) > 1957):\n",
    "        try:\n",
    "            temp.append(float(row[\"LandAverageTemperature\"]))\n",
    "        except:\n",
    "            temp.append(temp[-1])\n",
    "\n",
    "reader = DictReader(open('data/co2_by_year.csv', 'rt', encoding='utf-8'))\n",
    "co2 = []\n",
    "for row in reader:\n",
    "    if(int(row[\"Year\"]) < 2016):\n",
    "        try:\n",
    "            co2.append(float(row[\"Carbon Dioxide (ppm)\"]))\n",
    "        except:\n",
    "            try:\n",
    "                co2.append(co2[-1])\n",
    "            except:\n",
    "                co2.append(315)\n",
    "\n",
    "plt.figure()\n",
    "plt.plot(co2, temp, 'r')\n",
    "axes = plt.gca()\n",
    "axes.set_ylim([0,max(temp)])\n",
    "axes.set_xlim([min(co2),max(co2)])\n",
    "plt.ylabel('Povprecna temperatura')\n",
    "plt.xlabel('Vrednost co2 ppm');\n",
    "plt.title(\"Odvisnost med temperaturo in co2\")\n",
    "plt.show()"
   ]
  },
  {
   "cell_type": "markdown",
   "metadata": {},
   "source": [
    "Zal se iz grafa te korelacije ne vidi, ampak ali to res pomeni, da ne obstaja?\n",
    "\n",
    "Stopnja co2 se s časom povečuje - nedolgo nazaj smo prestopili mejo 400 milijonov delcev na koncentracijo atmosferskega CO2 in sicer iz 288ppm, ki pa je znašala pred industrijsko revolucijo, kar pomeni 43% povečanje.\n",
    "\n",
    "Zemlja ima z majhno mero toplogrednih plinov temperaturo približno 30 stopinj celzija. Kaj pa sedaj ko se je količina co2 povečala za 43% procentov? Ali se bo temperatura dvignila tudi za 43%?\n",
    "\n",
    "Odgovor je seveda ne in zato obstaja kar nekaj razlogov. Povečanje co2 za 43%, še ne pomeni, da se je toliko povečala učinek tople grede. Sprememba podnebja je kompleksen proces in je zato težko ločiti naravne podnebne spremembe od človeških posegov, ki so se močneje pojavili šele sedaj.\n",
    "\n",
    "Torej temperature ne naraščajo z enako mero kot narašča co2. Trenutno se je podnebje segrelo le za 0.8 stopinja celzije."
   ]
  },
  {
   "cell_type": "markdown",
   "metadata": {},
   "source": [
    "Pa si poglejmo še kako so temperature razporejene po zvezdnih drzavah. Rezultati so pričakovani, države bližje ekvatorju imajo tudi višje temperature."
   ]
  },
  {
   "cell_type": "code",
   "execution_count": null,
   "metadata": {},
   "outputs": [],
   "source": [
    "import plotly.plotly as py\n",
    "from plotly.graph_objs import *\n",
    "py.sign_in('kristian32', 'yKfcunxV5ywQ4S1omxf8')\n",
    "f = open(\"data/co2.csv\",\"r\")\n",
    "seznam = f.read().replace(\"\\n\",\";\").split(\";\")[3::3]\n",
    "seznam_napisov =  []\n",
    "sez = [\"Alabama<br>\", \"Alaska<br>\", \"Arizona<br>\", \"Arkansas<br>\", \"California<br>\", \"Colorado<br>\", \"Connecticut<br>\", \"Delaware<br>\", \"Florida<br>Beef 42.6 Dairy 66.31<br>Fruits 1371.36 Veggies 450.86<br>Wheat 1.8 Corn 3.5\", \"Georgia<br>Beef 31.0 Dairy 38.38<br>Fruits 233.51 Veggies 154.77<br>Wheat 65.4 Corn 57.8\", \"Hawaii<br>Beef 4.0 Dairy 1.16<br>Fruits 55.51 Veggies 24.83<br>Wheat 0.0 Corn 0.0\", \"Idaho<br>Beef 119.8 Dairy 294.6<br>Fruits 21.64 Veggies 319.19<br>Wheat 568.2 Corn 24.0\", \"Illinois<br>Beef 53.7 Dairy 45.82<br>Fruits 12.53 Veggies 39.95<br>Wheat 223.8 Corn 2228.5\", \"Indiana<br>Beef 21.9 Dairy 89.7<br>Fruits 12.98 Veggies 37.89<br>Wheat 114.0 Corn 1123.2\", \"Iowa<br>Beef 289.8 Dairy 107.0<br>Fruits 3.24 Veggies 7.1<br>Wheat 3.1 Corn 2529.8\", \"Kansas<br>Beef 659.3 Dairy 65.45<br>Fruits 3.11 Veggies 9.32<br>Wheat 1426.5 Corn 457.3\", \"Kentucky<br>Beef 54.8 Dairy 28.27<br>Fruits 6.6 Veggies 0.0<br>Wheat 149.3 Corn 179.1\", \"Louisiana<br>Beef 19.8 Dairy 6.02<br>Fruits 17.83 Veggies 17.25<br>Wheat 78.7 Corn 91.4\", \"Maine<br>Beef 1.4 Dairy 16.18<br>Fruits 52.01 Veggies 62.9<br>Wheat 0.0 Corn 0.0\", \"Maryland<br>Beef 5.6 Dairy 24.81<br>Fruits 12.9 Veggies 20.43<br>Wheat 55.8 Corn 54.1\", \"Massachusetts<br>Beef 0.6 Dairy 5.81<br>Fruits 80.83 Veggies 21.13<br>Wheat 0.0 Corn 0.0\", \"Michigan<br>Beef 37.7 Dairy 214.82<br>Fruits 257.69 Veggies 189.96<br>Wheat 247.0 Corn 381.5\", \"Minnesota<br>Beef 112.3 Dairy 218.05<br>Fruits 7.91 Veggies 120.37<br>Wheat 538.1 Corn 1264.3\", \"Mississippi<br>Beef 12.8 Dairy 5.45<br>Fruits 17.04 Veggies 27.87<br>Wheat 102.2 Corn 110.0\", \"Missouri<br>Beef 137.2 Dairy 34.26<br>Fruits 13.18 Veggies 17.9<br>Wheat 161.7 Corn 428.8\", \"Montana<br>Beef 105.0 Dairy 6.82<br>Fruits 3.3 Veggies 45.27<br>Wheat 1198.1 Corn 5.4\", \"Nebraska<br>Beef 762.2 Dairy 30.07<br>Fruits 2.16 Veggies 53.5<br>Wheat 292.3 Corn 1735.9\", \"Nevada<br>Beef 21.8 Dairy 16.57<br>Fruits 1.19 Veggies 27.93<br>Wheat 5.4 Corn 0.0\", \"New Hampshire<br>Beef 0.6 Dairy 7.46<br>Fruits 7.98 Veggies 4.5<br>Wheat 0.0 Corn 0.0\", \"New Jersey<br>Beef 0.8 Dairy 3.37<br>Fruits 109.45 Veggies 56.54<br>Wheat 6.7 Corn 10.1\", \"New Mexico<br>Beef 117.2 Dairy 191.01<br>Fruits 101.9 Veggies 43.88<br>Wheat 13.9 Corn 11.2\", \"New York<br>Beef 22.2 Dairy 331.8<br>Fruits 202.56 Veggies 143.37<br>Wheat 29.9 Corn 106.1\", \"North Carolina<br>Beef 24.8 Dairy 24.9<br>Fruits 74.47 Veggies 150.45<br>Wheat 200.3 Corn 92.2\", \"North Dakota<br>Beef 78.5 Dairy 8.14<br>Fruits 0.25 Veggies 130.79<br>Wheat 1664.5 Corn 236.1\", \"Ohio<br>Beef 36.2 Dairy 134.57<br>Fruits 27.21 Veggies 53.53<br>Wheat 207.4 Corn 535.1\", \"Oklahoma<br>Beef 337.6 Dairy 24.35<br>Fruits 9.24 Veggies 8.9<br>Wheat 324.8 Corn 27.5\", \"Oregon<br>Beef 58.8 Dairy 63.66<br>Fruits 315.04 Veggies 126.5<br>Wheat 320.3 Corn 11.7\", \"Pennsylvania<br>Beef 50.9 Dairy 280.87<br>Fruits 89.48 Veggies 38.26<br>Wheat 41.0 Corn 112.1\", \"Rhode Island<br>Beef 0.1 Dairy 0.52<br>Fruits 2.83 Veggies 3.02<br>Wheat 0.0 Corn 0.0\", \"South Carolina<br>Beef 15.2 Dairy 7.62<br>Fruits 53.45 Veggies 42.66<br>Wheat 55.3 Corn 32.1\", \"South Dakota<br>Beef 193.5 Dairy 46.77<br>Fruits 0.8 Veggies 4.06<br>Wheat 704.5 Corn 643.6\", \"Tennessee<br>Beef 51.1 Dairy 21.18<br>Fruits 6.23 Veggies 24.67<br>Wheat 100.0 Corn 88.8\", \"Texas<br>Beef 961.0 Dairy 240.55<br>Fruits 99.9 Veggies 115.23<br>Wheat 309.7 Corn 167.2\", \"Utah<br>Beef 27.9 Dairy 48.6<br>Fruits 12.34 Veggies 6.6<br>Wheat 42.8 Corn 5.3\", \"Vermont<br>Beef 6.2 Dairy 65.98<br>Fruits 8.01 Veggies 4.05<br>Wheat 0.0 Corn 0.0\", \"Virginia<br>Beef 39.5 Dairy 47.85<br>Fruits 36.48 Veggies 27.25<br>Wheat 77.5 Corn 39.5\", \"Washington<br>Beef 59.2 Dairy 154.18<br>Fruits 1738.57 Veggies 363.79<br>Wheat 786.3 Corn 29.5\", \"West Virginia<br>Beef 12.0 Dairy 3.9<br>Fruits 11.54 Veggies 0.0<br>Wheat 1.6 Corn 3.5\", \"Wisconsin<br>Beef 107.3 Dairy 633.6<br>Fruits 133.8 Veggies 148.99<br>Wheat 96.7 Corn 460.5\", \"Wyoming<br>Beef 75.1 Dairy 2.89<br>Fruits 0.17 Veggies 10.23<br>Wheat 20.7 Corn 9.0\"],\n",
    "print(seznam)\n",
    "for i in range(len(seznam_napisov)):\n",
    "    seznam_napisov.append(sez[i]+\" \"+seznam[i])\n",
    "\n",
    "trace1 = {\n",
    "  \"z\": seznam,\n",
    "  \"autocolorscale\": False,\n",
    "  \"colorbar\": {\"title\": \"yearBP\"},\n",
    "  \"colorscale\": [\n",
    "    [0, \"rgb(242,240,247)\"], [0.2, \"rgb(218,218,235)\"], [0.4, \"rgb(188,189,220)\"], [0.6, \"rgb(158,154,200)\"], [0.8, \"rgb(117,107,177)\"], [1.0, \"rgb(84,39,143)\"]],\n",
    "  \"locationmode\": \"USA-states\",\n",
    "  \"locations\": [\"AL\", \"AK\", \"AZ\", \"AR\", \"CA\", \"CO\", \"CT\", \"DE\", \"FL\", \"GA\", \"HI\", \"ID\", \"IL\", \"IN\", \"IA\", \"KS\", \"KY\", \"LA\", \"ME\", \"MD\", \"MA\", \"MI\", \"MN\", \"MS\", \"MO\", \"MT\", \"NE\", \"NV\", \"NH\", \"NJ\", \"NM\", \"NY\", \"NC\", \"ND\", \"OH\", \"OK\", \"OR\", \"PA\", \"RI\", \"SC\", \"SD\", \"TN\", \"TX\", \"UT\", \"VT\", \"VA\", \"WA\", \"WV\", \"WI\", \"WY\"],\n",
    "  \"locationssrc\": \"kristian32:0:7af93d\",\n",
    "  \"marker\": {\"line\": {\n",
    "      \"color\": \"rgb(255,255,255)\",\n",
    "      \"width\": 2\n",
    "    }},\n",
    "  \"name\": \"z\",\n",
    "  \"text\": seznam_napisov,\n",
    "  \"textsrc\": \"kristian32:0:01ba27\",\n",
    "  \"type\": \"choropleth\",\n",
    "  \"uid\": \"105dc6\",\n",
    "  \"zauto\": False,\n",
    "  \"zmax\": 100,\n",
    "  \"zmin\": -100,\n",
    "  \"zsrc\": \"kristian32:0:b28ef3\"\n",
    "}\n",
    "data = Data([trace1])\n",
    "layout = {\n",
    "  \"autosize\": False,\n",
    "  \"geo\": {\n",
    "    \"center\": {\n",
    "      \"lat\": 28.3626302944,\n",
    "      \"lon\": -101.579079144\n",
    "    },\n",
    "    \"lakecolor\": \"rgb(255, 255, 255)\",\n",
    "    \"projection\": {\n",
    "      \"scale\": 0.613017430027,\n",
    "      \"type\": \"albers usa\"\n",
    "    },\n",
    "    \"scope\": \"world\",\n",
    "    \"showlakes\": True\n",
    "  },\n",
    "  \"title\": \"US year bp\"\n",
    "}\n",
    "fig = Figure(data=data, layout=layout)\n",
    "plot_url = py.plot(fig)"
   ]
  },
  {
   "cell_type": "code",
   "execution_count": null,
   "metadata": {},
   "outputs": [],
   "source": []
  }
 ],
 "metadata": {
  "kernelspec": {
   "display_name": "Python 3",
   "language": "python",
   "name": "python3"
  },
  "language_info": {
   "codemirror_mode": {
    "name": "ipython",
    "version": 3
   },
   "file_extension": ".py",
   "mimetype": "text/x-python",
   "name": "python",
   "nbconvert_exporter": "python",
   "pygments_lexer": "ipython3",
   "version": "3.6.4"
  }
 },
 "nbformat": 4,
 "nbformat_minor": 2
}
