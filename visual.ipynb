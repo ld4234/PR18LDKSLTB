{
 "cells": [
  {
   "cell_type": "code",
   "execution_count": 1,
   "metadata": {
    "collapsed": true
   },
   "outputs": [],
   "source": [
    "from api import redlist_api\n",
    "from collections import defaultdict\n",
    "import matplotlib.pyplot as plt"
   ]
  },
  {
   "cell_type": "code",
   "execution_count": 3,
   "metadata": {},
   "outputs": [],
   "source": [
    "\n",
    "severities = {\n",
    "    \"DD\": \"Data deficient\",\n",
    "    \"LC\": \"Least concern\",\n",
    "    \"CD\": \"Conservation dependent\",\n",
    "    \"NT\": \"Near threathend\",\n",
    "    \"VU\": \"Vulnerable\",\n",
    "    \"EN\": \"Endangered\",\n",
    "    \"CR\": \"Critically endangered\",\n",
    "    \"EW\": \"Extinct in the wild\",\n",
    "    \"EX\": \"Extinct\"\n",
    "}\n",
    "\n",
    "countries = dict()\n",
    "\n",
    "for country_code in redlist_api.all_country_codes:\n",
    "    countries[country_code] = redlist_api.species_by_country(country_code)\n",
    "\n",
    "# print(countries)\n",
    "ascending_severities = [\"DD\", \"LC\", \"CD\", \"NT\", \"VU\", \"EN\", \"CR\", \"EW\", \"EX\"]\n",
    "scores = defaultdict(lambda: {\"DD\": 0, \"LC\": 0, \"CD\": 0, \"NT\": 0, \"VU\": 0, \"EN\": 0, \"CR\": 0, \"EW\": 0, \"EX\": 0})\n",
    "\n",
    "global_score = {\"DD\": 0, \"LC\": 0, \"CD\": 0, \"NT\": 0, \"VU\": 0, \"EN\": 0, \"CR\": 0, \"EW\": 0, \"EX\": 0}\n",
    "\n",
    "for country_code, country in countries.items():\n",
    "    for result in country[\"result\"]:\n",
    "\n",
    "        category = result[\"category\"].upper()\n",
    "        if category.startswith(\"LR/\"):\n",
    "            category = category[3:]\n",
    "        if category not in scores[country_code]:\n",
    "            print(result)\n",
    "            continue\n",
    "        scores[country_code][category] += 1\n",
    "        global_score[category] += 1\n",
    "\n",
    "\n",
    "# print(scores)\n",
    "data = ([], [])\n",
    "xtics = []\n",
    "for i, code in enumerate(ascending_severities[2:]):\n",
    "    data[0].append(i)\n",
    "    data[1].append(global_score[code])\n",
    "    xtics.append(severities[code])\n"
   ]
  },
  {
   "cell_type": "code",
   "execution_count": 4,
   "metadata": {},
   "outputs": [],
   "source": [
    "plt.plot(*data)\n",
    "plt.xticks(data[0], xtics, rotation=15, size=\"small\")\n",
    "for x, y in zip(*data):\n",
    "    plt.annotate(\n",
    "        y,\n",
    "        xy=(x, y), xytext=(-10, 15),\n",
    "        textcoords='offset points', ha='right', va='bottom',\n",
    "        bbox=dict(boxstyle='round,pad=0.5', fc='yellow', alpha=0.5),\n",
    "        arrowprops=dict(arrowstyle='->', connectionstyle='arc3,rad=0')\n",
    "    )\n",
    "plt.show()"
   ]
  },
  {
   "cell_type": "code",
   "execution_count": null,
   "metadata": {},
   "outputs": [],
   "source": []
  }
 ],
 "metadata": {
  "kernelspec": {
   "display_name": "Python 2",
   "language": "python",
   "name": "python2"
  },
  "language_info": {
   "codemirror_mode": {
    "name": "ipython",
    "version": 2
   },
   "file_extension": ".py",
   "mimetype": "text/x-python",
   "name": "python",
   "nbconvert_exporter": "python",
   "pygments_lexer": "ipython2",
   "version": "2.7.6"
  }
 },
 "nbformat": 4,
 "nbformat_minor": 0
}
